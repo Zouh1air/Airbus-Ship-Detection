{
 "cells": [
  {
   "cell_type": "markdown",
   "id": "183ecfd7",
   "metadata": {},
   "source": [
    "# xml2yolo"
   ]
  },
  {
   "cell_type": "code",
   "execution_count": null,
   "id": "4cd37806",
   "metadata": {},
   "outputs": [],
   "source": [
    "import xml.etree.ElementTree as ET\n",
    "import glob\n",
    "import os\n",
    "import json"
   ]
  },
  {
   "cell_type": "code",
   "execution_count": 85,
   "id": "82de08ce",
   "metadata": {},
   "outputs": [],
   "source": [
    "def xml_to_yolo_bbox(bbox, w, h):\n",
    "    # xmin, ymin, xmax, ymax\n",
    "    x_center = ((bbox[2] + bbox[0]) / 2) / w\n",
    "    y_center = ((bbox[3] + bbox[1]) / 2) / h\n",
    "    width = (bbox[2] - bbox[0]) / w\n",
    "    height = (bbox[3] - bbox[1]) / h\n",
    "    return [x_center, y_center, width, height]"
   ]
  },
  {
   "cell_type": "code",
   "execution_count": 86,
   "id": "c71c55a0",
   "metadata": {},
   "outputs": [],
   "source": [
    "classes = []\n",
    "input_dir = \"C:\\\\Users\\\\hp\\\\Desktop\\\\BD2\\\\annotations\"\n",
    "output_dir = \"C:\\\\Users\\\\hp\\\\Desktop\\\\BD2\\\\yolo_labels\"\n",
    "image_dir = \"C:\\\\Users\\\\hp\\\\Desktop\\\\BD2\\\\images\""
   ]
  },
  {
   "cell_type": "code",
   "execution_count": 87,
   "id": "c44a053b",
   "metadata": {},
   "outputs": [],
   "source": [
    "if not os.path.isdir(output_dir):\n",
    "    os.mkdir(output_dir)"
   ]
  },
  {
   "cell_type": "code",
   "execution_count": 88,
   "id": "a99f3caa",
   "metadata": {},
   "outputs": [],
   "source": [
    "files = glob.glob(os.path.join(input_dir, '*.xml'))\n",
    "for fil in files:\n",
    "    basename = os.path.basename(fil)\n",
    "    filename = os.path.splitext(basename)[0]\n",
    "    if not os.path.exists(os.path.join(image_dir, f\"{filename}.png\")):\n",
    "        print(f\"{filename} image does not exist!\")\n",
    "        continue\n",
    "    result = []\n",
    "    tree = ET.parse(fil)\n",
    "    root = tree.getroot()\n",
    "    width = int(root.find(\"size\").find(\"width\").text)\n",
    "    height = int(root.find(\"size\").find(\"height\").text)\n",
    "    for obj in root.findall('object'):\n",
    "        label = obj.find(\"name\").text\n",
    "        if label not in classes:\n",
    "            classes.append(label)\n",
    "        index = classes.index(label)\n",
    "        pil_bbox = [int(x.text) for x in obj.find(\"bndbox\")]\n",
    "        yolo_bbox = xml_to_yolo_bbox(pil_bbox, width, height)\n",
    "        bbox_string = \" \".join([str(x) for x in yolo_bbox])\n",
    "        result.append(f\"{index} {bbox_string}\")\n",
    "    if result:\n",
    "        with open(os.path.join(output_dir, f\"{filename}.txt\"), \"w\", encoding=\"utf-8\") as f:\n",
    "            f.write(\"\\n\".join(result))"
   ]
  },
  {
   "cell_type": "code",
   "execution_count": null,
   "id": "85d437c0",
   "metadata": {},
   "outputs": [],
   "source": [
    "with open('classes.txt', 'w', encoding='utf8') as f:\n",
    "    f.write(json.dumps(classes))"
   ]
  },
  {
   "cell_type": "markdown",
   "id": "21108805",
   "metadata": {},
   "source": [
    "# draw"
   ]
  },
  {
   "cell_type": "code",
   "execution_count": 90,
   "id": "67bb718c",
   "metadata": {},
   "outputs": [],
   "source": [
    "from PIL import Image, ImageDraw"
   ]
  },
  {
   "cell_type": "code",
   "execution_count": 91,
   "id": "8c74be0e",
   "metadata": {},
   "outputs": [],
   "source": [
    "def yolo_to_xml_bbox(bbox, w, h):\n",
    "    # x_center, y_center width heigth\n",
    "    w_half_len = (bbox[2] * w) / 2\n",
    "    h_half_len = (bbox[3] * h) / 2\n",
    "    xmin = int((bbox[0] * w) - w_half_len)\n",
    "    ymin = int((bbox[1] * h) - h_half_len)\n",
    "    xmax = int((bbox[0] * w) + w_half_len)\n",
    "    ymax = int((bbox[1] * h) + h_half_len)\n",
    "    return [xmin, ymin, xmax, ymax]\n",
    "def draw_image(img, bboxes):\n",
    "    draw = ImageDraw.Draw(img)\n",
    "    for bbox in bboxes:\n",
    "        draw.rectangle(bbox, outline=\"red\", width=2)\n",
    "    img.show()"
   ]
  },
  {
   "cell_type": "code",
   "execution_count": 208,
   "id": "e3a0d719",
   "metadata": {},
   "outputs": [],
   "source": [
    "image_filename = f\"C:\\\\Users\\\\hp\\\\Desktop\\\\BD2\\\\images\\\\boat1.png\"\n",
    "label_filename = f\"C:\\\\Users\\\\hp\\\\Desktop\\\\BD2\\\\yolo_labels\\\\boat1.txt\"\n",
    "bboxes = []"
   ]
  },
  {
   "cell_type": "code",
   "execution_count": 209,
   "id": "c1dd5782",
   "metadata": {},
   "outputs": [],
   "source": [
    "img = Image.open(image_filename)\n",
    "with open(label_filename, 'r', encoding='utf8') as f:\n",
    "    for line in f:\n",
    "        data = line.strip().split(' ')\n",
    "        bbox = [float(x) for x in data[1:]]\n",
    "        bboxes.append(yolo_to_xml_bbox(bbox, img.width, img.height))"
   ]
  },
  {
   "cell_type": "code",
   "execution_count": 210,
   "id": "35126c8a",
   "metadata": {},
   "outputs": [],
   "source": [
    "draw_image(img, bboxes)"
   ]
  },
  {
   "cell_type": "markdown",
   "id": "92d11100",
   "metadata": {},
   "source": [
    "# split_datasets"
   ]
  },
  {
   "cell_type": "code",
   "execution_count": 218,
   "id": "d92653a1",
   "metadata": {},
   "outputs": [],
   "source": [
    "import os\n",
    "import shutil\n",
    "import glob\n",
    "import random\n",
    "\n",
    "def copyfiles(fil, folder):\n",
    "    # Fonction copyfiles() pour copier les fichiers vers le dossier spécifié\n",
    "    basename = os.path.basename(fil)\n",
    "    filename = os.path.splitext(basename)[0]\n",
    "    \n",
    "    # Chemins d'origine et de destination pour les images\n",
    "    src_image = os.path.join(\"C:\\\\Users\\\\hp\\\\Desktop\\\\BD2\\\\images\", f\"{filename}.png\")\n",
    "    dest_image = os.path.join(folder, \"images\", f\"{filename}.png\")\n",
    "    shutil.copyfile(src_image, dest_image)\n",
    "    \n",
    "    # Chemins d'origine et de destination pour les étiquettes\n",
    "    src_label = os.path.join(\"C:\\\\Users\\\\hp\\\\Desktop\\\\BD2\\\\yolo_labels\", f\"{filename}.txt\")\n",
    "    dest_label = os.path.join(folder, \"yolo_labels\", f\"{filename}.txt\")\n",
    "    shutil.copyfile(src_label, dest_label)\n",
    "    \n",
    "    # Chemins d'origine et de destination pour les annotations\n",
    "    src_annotation = os.path.join(\"C:\\\\Users\\\\hp\\\\Desktop\\\\BD2\\\\annotations\", f\"{filename}.xml\")\n",
    "    dest_annotation = os.path.join(folder, \"annotations\", f\"{filename}.xml\")\n",
    "    shutil.copyfile(src_annotation, dest_annotation)\n",
    "\n",
    "# Chemins des répertoires sources\n",
    "image_dir = \"C:\\\\Users\\\\hp\\\\Desktop\\\\BD2\\\\images\"\n",
    "label_dir = \"C:\\\\Users\\\\hp\\\\Desktop\\\\BD2\\\\yolo_labels\"\n",
    "annotation_dir = \"C:\\\\Users\\\\hp\\\\Desktop\\\\BD2\\\\annotations\"\n",
    "\n",
    "# Chemin du répertoire racine pour les dossiers train, test, valid\n",
    "root_dir = \"C:\\\\Users\\\\hp\\\\Desktop\\\\BD2\"\n",
    "\n",
    "# Proportions de division pour les dossiers train, test, valid\n",
    "folders = {\"train\": 0.6, \"test\": 0.2, \"valid\": 0.2}\n",
    "\n",
    "# Vérification de la somme des proportions\n",
    "check_sum = sum(folders.values())\n",
    "assert check_sum == 1.0, \"La somme des proportions n'est pas égale à 1.0\"\n",
    "\n",
    "# Création des dossiers train, test, valid\n",
    "for folder in folders:\n",
    "    os.makedirs(os.path.join(root_dir, folder, \"images\"), exist_ok=True)\n",
    "    os.makedirs(os.path.join(root_dir, folder, \"yolo_labels\"), exist_ok=True)\n",
    "    os.makedirs(os.path.join(root_dir, folder, \"annotations\"), exist_ok=True)\n",
    "\n",
    "# Obtention de la liste des fichiers d'images\n",
    "files = glob.glob(os.path.join(image_dir, '*.png'))\n",
    "random.shuffle(files)\n",
    "\n",
    "# Boucle pour la division des fichiers\n",
    "lower_limit = 0\n",
    "for folder in folders:\n",
    "    limit = round(len(files) * folders[folder])\n",
    "    for fil in files[lower_limit:lower_limit + limit]:\n",
    "        copyfiles(fil, os.path.join(root_dir, folder))\n",
    "    lower_limit += limit\n"
   ]
  },
  {
   "cell_type": "markdown",
   "id": "577ee735",
   "metadata": {},
   "source": [
    "# training"
   ]
  },
  {
   "cell_type": "code",
   "execution_count": 4,
   "id": "24efe21d",
   "metadata": {},
   "outputs": [
    {
     "name": "stderr",
     "output_type": "stream",
     "text": [
      "fatal: destination path 'yolov5' already exists and is not an empty directory.\n"
     ]
    }
   ],
   "source": [
    "!git clone https://github.com/ultralytics/yolov5"
   ]
  },
  {
   "cell_type": "code",
   "execution_count": 5,
   "id": "2ee3b31c",
   "metadata": {},
   "outputs": [
    {
     "name": "stdout",
     "output_type": "stream",
     "text": [
      "C:\\Users\\hp\\Desktop\\BD2\\yolov5\n"
     ]
    }
   ],
   "source": [
    "%cd yolov5"
   ]
  },
  {
   "cell_type": "code",
   "execution_count": 6,
   "id": "d70e472c",
   "metadata": {},
   "outputs": [
    {
     "name": "stdout",
     "output_type": "stream",
     "text": [
      "Note: you may need to restart the kernel to use updated packages.\n"
     ]
    }
   ],
   "source": [
    "%pip install -qr requirements.txt"
   ]
  },
  {
   "cell_type": "code",
   "execution_count": 7,
   "id": "1d7f7d7d",
   "metadata": {},
   "outputs": [],
   "source": [
    "import torch\n",
    "import utils "
   ]
  },
  {
   "cell_type": "code",
   "execution_count": 8,
   "id": "d12bad52",
   "metadata": {},
   "outputs": [
    {
     "name": "stderr",
     "output_type": "stream",
     "text": [
      "YOLOv5  v7.0-177-g89c3040 Python-3.10.9 torch-1.13.1 CPU\n"
     ]
    },
    {
     "name": "stdout",
     "output_type": "stream",
     "text": [
      "Setup complete  (8 CPUs, 15.8 GB RAM, 213.0/237.5 GB disk)\n"
     ]
    }
   ],
   "source": [
    "display= utils.notebook_init()"
   ]
  },
  {
   "cell_type": "code",
   "execution_count": 9,
   "id": "5cdb1616",
   "metadata": {},
   "outputs": [
    {
     "name": "stderr",
     "output_type": "stream",
     "text": [
      "\u001b[34m\u001b[1mtrain: \u001b[0mweights=yolov5s.pt, cfg=, data=/content/yolov5/data/custom.yaml, hyp=data\\hyps\\hyp.scratch-low.yaml, epochs=3, batch_size=1, imgsz=640, rect=False, resume=False, nosave=False, noval=False, noautoanchor=False, noplots=False, evolve=None, bucket=, cache=ram, image_weights=False, device=, multi_scale=False, single_cls=False, optimizer=SGD, sync_bn=False, workers=8, project=runs\\train, name=exp, exist_ok=False, quad=False, cos_lr=False, label_smoothing=0.0, patience=100, freeze=[0], save_period=-1, seed=0, local_rank=-1, entity=None, upload_dataset=False, bbox_interval=-1, artifact_alias=latest\n",
      "From https://github.com/ultralytics/yolov5\n",
      "   89c3040..a199480  master     -> origin/master\n",
      "\u001b[34m\u001b[1mgithub: \u001b[0m YOLOv5 is out of date by 1 commit. Use 'git pull' or 'git clone https://github.com/ultralytics/yolov5' to update.\n",
      "Traceback (most recent call last):\n",
      "  File \"C:\\Users\\hp\\Desktop\\BD2\\yolov5\\train.py\", line 642, in <module>\n",
      "    main(opt)\n",
      "  File \"C:\\Users\\hp\\Desktop\\BD2\\yolov5\\train.py\", line 506, in main\n",
      "    check_file(opt.data), check_yaml(opt.cfg), check_yaml(opt.hyp), str(opt.weights), str(opt.project)  # checks\n",
      "  File \"C:\\Users\\hp\\Desktop\\BD2\\yolov5\\utils\\general.py\", line 458, in check_file\n",
      "    assert len(files), f'File not found: {file}'  # assert file was found\n",
      "AssertionError: File not found: /content/yolov5/data/custom.yaml\n"
     ]
    }
   ],
   "source": [
    "!python train.py --img 640 --batch 1 --epochs 3 --data /content/yolov5/data/custom.yaml --weights yolov5s.pt --cache"
   ]
  },
  {
   "cell_type": "code",
   "execution_count": 11,
   "id": "1f1e7f5f",
   "metadata": {},
   "outputs": [
    {
     "name": "stderr",
     "output_type": "stream",
     "text": [
      "\u001b[34m\u001b[1mdetect: \u001b[0mweights=yolov5s.pt, source=C:\\Users\\hp\\Desktop\\BD2\\test\\images\\boat127.png, data=data\\coco128.yaml, imgsz=[640, 640], conf_thres=0.25, iou_thres=0.45, max_det=1000, device=, view_img=False, save_txt=False, save_conf=False, save_crop=False, nosave=False, classes=None, agnostic_nms=False, augment=False, visualize=False, update=False, project=runs\\detect, name=exp, exist_ok=False, line_thickness=3, hide_labels=False, hide_conf=False, half=False, dnn=False, vid_stride=1\n",
      "YOLOv5  v7.0-177-g89c3040 Python-3.10.9 torch-1.13.1 CPU\n",
      "\n",
      "Fusing layers... \n",
      "YOLOv5s summary: 213 layers, 7225885 parameters, 0 gradients\n",
      "image 1/1 C:\\Users\\hp\\Desktop\\BD2\\test\\images\\boat127.png: 608x640 1 scissors, 291.2ms\n",
      "Speed: 3.7ms pre-process, 291.2ms inference, 29.2ms NMS per image at shape (1, 3, 640, 640)\n",
      "Results saved to \u001b[1mruns\\detect\\exp5\u001b[0m\n"
     ]
    }
   ],
   "source": [
    "!python detect.py --source C:\\Users\\hp\\Desktop\\BD2\\test\\images\\boat127.png"
   ]
  },
  {
   "cell_type": "code",
   "execution_count": 12,
   "id": "98aec68d",
   "metadata": {},
   "outputs": [
    {
     "name": "stdout",
     "output_type": "stream",
     "text": [
      "Collecting yolov5\n",
      "  Downloading yolov5-7.0.12-py37.py38.py39.py310-none-any.whl (953 kB)\n",
      "     -------------------------------------- 953.3/953.3 kB 3.0 MB/s eta 0:00:00\n",
      "Requirement already satisfied: torchvision>=0.8.1 in c:\\users\\hp\\anaconda3\\envs\\mini_project\\lib\\site-packages (from yolov5) (0.14.1)\n",
      "Collecting roboflow>=0.2.29\n",
      "  Downloading roboflow-1.0.9-py3-none-any.whl (56 kB)\n",
      "     ---------------------------------------- 56.3/56.3 kB 3.1 MB/s eta 0:00:00\n",
      "Requirement already satisfied: psutil in c:\\users\\hp\\anaconda3\\envs\\mini_project\\lib\\site-packages (from yolov5) (5.9.0)\n",
      "Collecting boto3>=1.19.1\n",
      "  Downloading boto3-1.26.149-py3-none-any.whl (135 kB)\n",
      "     -------------------------------------- 135.6/135.6 kB 7.8 MB/s eta 0:00:00\n",
      "Collecting sahi>=0.11.10\n",
      "  Downloading sahi-0.11.14-py3-none-any.whl (104 kB)\n",
      "     ---------------------------------------- 104.0/104.0 kB ? eta 0:00:00\n",
      "Requirement already satisfied: matplotlib>=3.3 in c:\\users\\hp\\anaconda3\\envs\\mini_project\\lib\\site-packages (from yolov5) (3.6.2)\n",
      "Requirement already satisfied: requests>=2.23.0 in c:\\users\\hp\\anaconda3\\envs\\mini_project\\lib\\site-packages (from yolov5) (2.28.2)\n",
      "Collecting huggingface-hub>=0.12.0\n",
      "  Downloading huggingface_hub-0.15.1-py3-none-any.whl (236 kB)\n",
      "     ------------------------------------- 236.8/236.8 kB 14.2 MB/s eta 0:00:00\n",
      "Requirement already satisfied: Pillow>=7.1.2 in c:\\users\\hp\\anaconda3\\envs\\mini_project\\lib\\site-packages (from yolov5) (9.3.0)\n",
      "Requirement already satisfied: scipy>=1.4.1 in c:\\users\\hp\\anaconda3\\envs\\mini_project\\lib\\site-packages (from yolov5) (1.9.3)\n",
      "Requirement already satisfied: tqdm>=4.64.0 in c:\\users\\hp\\anaconda3\\envs\\mini_project\\lib\\site-packages (from yolov5) (4.65.0)\n",
      "Requirement already satisfied: setuptools>=65.5.1 in c:\\users\\hp\\anaconda3\\envs\\mini_project\\lib\\site-packages (from yolov5) (65.6.3)\n",
      "Requirement already satisfied: PyYAML>=5.3.1 in c:\\users\\hp\\anaconda3\\envs\\mini_project\\lib\\site-packages (from yolov5) (6.0)\n",
      "Requirement already satisfied: pandas>=1.1.4 in c:\\users\\hp\\anaconda3\\envs\\mini_project\\lib\\site-packages (from yolov5) (1.5.3)\n",
      "Requirement already satisfied: opencv-python>=4.1.1 in c:\\users\\hp\\anaconda3\\envs\\mini_project\\lib\\site-packages (from yolov5) (4.7.0.72)\n",
      "Requirement already satisfied: ultralytics>=8.0.100 in c:\\users\\hp\\anaconda3\\envs\\mini_project\\lib\\site-packages (from yolov5) (8.0.114)\n",
      "Requirement already satisfied: gitpython>=3.1.30 in c:\\users\\hp\\anaconda3\\envs\\mini_project\\lib\\site-packages (from yolov5) (3.1.31)\n",
      "Requirement already satisfied: torch>=1.7.0 in c:\\users\\hp\\anaconda3\\envs\\mini_project\\lib\\site-packages (from yolov5) (1.13.1)\n",
      "Requirement already satisfied: seaborn>=0.11.0 in c:\\users\\hp\\anaconda3\\envs\\mini_project\\lib\\site-packages (from yolov5) (0.12.2)\n",
      "Requirement already satisfied: numpy>=1.18.5 in c:\\users\\hp\\anaconda3\\envs\\mini_project\\lib\\site-packages (from yolov5) (1.23.5)\n",
      "Requirement already satisfied: tensorboard>=2.4.1 in c:\\users\\hp\\anaconda3\\envs\\mini_project\\lib\\site-packages (from yolov5) (2.11.2)\n",
      "Requirement already satisfied: thop>=0.1.1 in c:\\users\\hp\\anaconda3\\envs\\mini_project\\lib\\site-packages (from yolov5) (0.1.1.post2209072238)\n",
      "Collecting fire\n",
      "  Downloading fire-0.5.0.tar.gz (88 kB)\n",
      "     ---------------------------------------- 88.3/88.3 kB 5.2 MB/s eta 0:00:00\n",
      "  Preparing metadata (setup.py): started\n",
      "  Preparing metadata (setup.py): finished with status 'done'\n",
      "Collecting jmespath<2.0.0,>=0.7.1\n",
      "  Downloading jmespath-1.0.1-py3-none-any.whl (20 kB)\n",
      "Collecting botocore<1.30.0,>=1.29.149\n",
      "  Downloading botocore-1.29.149-py3-none-any.whl (10.8 MB)\n",
      "     --------------------------------------- 10.8/10.8 MB 11.9 MB/s eta 0:00:00\n",
      "Collecting s3transfer<0.7.0,>=0.6.0\n",
      "  Downloading s3transfer-0.6.1-py3-none-any.whl (79 kB)\n",
      "     ---------------------------------------- 79.8/79.8 kB ? eta 0:00:00\n",
      "Requirement already satisfied: gitdb<5,>=4.0.1 in c:\\users\\hp\\anaconda3\\envs\\mini_project\\lib\\site-packages (from gitpython>=3.1.30->yolov5) (4.0.10)\n",
      "Requirement already satisfied: typing-extensions>=3.7.4.3 in c:\\users\\hp\\anaconda3\\envs\\mini_project\\lib\\site-packages (from huggingface-hub>=0.12.0->yolov5) (4.4.0)\n",
      "Collecting filelock\n",
      "  Downloading filelock-3.12.0-py3-none-any.whl (10 kB)\n",
      "Requirement already satisfied: packaging>=20.9 in c:\\users\\hp\\anaconda3\\envs\\mini_project\\lib\\site-packages (from huggingface-hub>=0.12.0->yolov5) (22.0)\n",
      "Collecting fsspec\n",
      "  Downloading fsspec-2023.5.0-py3-none-any.whl (160 kB)\n",
      "     ------------------------------------- 160.1/160.1 kB 10.0 MB/s eta 0:00:00\n",
      "Requirement already satisfied: fonttools>=4.22.0 in c:\\users\\hp\\anaconda3\\envs\\mini_project\\lib\\site-packages (from matplotlib>=3.3->yolov5) (4.25.0)\n",
      "Requirement already satisfied: pyparsing>=2.2.1 in c:\\users\\hp\\anaconda3\\envs\\mini_project\\lib\\site-packages (from matplotlib>=3.3->yolov5) (3.0.9)\n",
      "Requirement already satisfied: contourpy>=1.0.1 in c:\\users\\hp\\anaconda3\\envs\\mini_project\\lib\\site-packages (from matplotlib>=3.3->yolov5) (1.0.5)\n",
      "Requirement already satisfied: kiwisolver>=1.0.1 in c:\\users\\hp\\anaconda3\\envs\\mini_project\\lib\\site-packages (from matplotlib>=3.3->yolov5) (1.4.4)\n",
      "Requirement already satisfied: cycler>=0.10 in c:\\users\\hp\\anaconda3\\envs\\mini_project\\lib\\site-packages (from matplotlib>=3.3->yolov5) (0.11.0)\n",
      "Requirement already satisfied: python-dateutil>=2.7 in c:\\users\\hp\\anaconda3\\envs\\mini_project\\lib\\site-packages (from matplotlib>=3.3->yolov5) (2.8.2)\n",
      "Requirement already satisfied: pytz>=2020.1 in c:\\users\\hp\\anaconda3\\envs\\mini_project\\lib\\site-packages (from pandas>=1.1.4->yolov5) (2022.7.1)\n",
      "Requirement already satisfied: urllib3<1.27,>=1.21.1 in c:\\users\\hp\\anaconda3\\envs\\mini_project\\lib\\site-packages (from requests>=2.23.0->yolov5) (1.26.14)\n",
      "Requirement already satisfied: certifi>=2017.4.17 in c:\\users\\hp\\anaconda3\\envs\\mini_project\\lib\\site-packages (from requests>=2.23.0->yolov5) (2022.12.7)\n",
      "Requirement already satisfied: idna<4,>=2.5 in c:\\users\\hp\\anaconda3\\envs\\mini_project\\lib\\site-packages (from requests>=2.23.0->yolov5) (3.4)\n",
      "Requirement already satisfied: charset-normalizer<4,>=2 in c:\\users\\hp\\anaconda3\\envs\\mini_project\\lib\\site-packages (from requests>=2.23.0->yolov5) (3.0.1)\n",
      "Requirement already satisfied: chardet==4.0.0 in c:\\users\\hp\\anaconda3\\envs\\mini_project\\lib\\site-packages (from roboflow>=0.2.29->yolov5) (4.0.0)\n",
      "Collecting cycler>=0.10\n",
      "  Downloading cycler-0.10.0-py2.py3-none-any.whl (6.5 kB)\n",
      "Collecting requests-toolbelt\n",
      "  Downloading requests_toolbelt-1.0.0-py2.py3-none-any.whl (54 kB)\n",
      "     ---------------------------------------- 54.5/54.5 kB ? eta 0:00:00\n",
      "Collecting idna<4,>=2.5\n",
      "  Downloading idna-2.10-py2.py3-none-any.whl (58 kB)\n",
      "     ---------------------------------------- 58.8/58.8 kB 3.0 MB/s eta 0:00:00\n",
      "Requirement already satisfied: six in c:\\users\\hp\\anaconda3\\envs\\mini_project\\lib\\site-packages (from roboflow>=0.2.29->yolov5) (1.16.0)\n",
      "Collecting wget\n",
      "  Downloading wget-3.2.zip (10 kB)\n",
      "  Preparing metadata (setup.py): started\n",
      "  Preparing metadata (setup.py): finished with status 'done'\n",
      "Collecting python-dotenv\n",
      "  Downloading python_dotenv-1.0.0-py3-none-any.whl (19 kB)\n",
      "Collecting pyparsing>=2.2.1\n",
      "  Downloading pyparsing-2.4.7-py2.py3-none-any.whl (67 kB)\n",
      "     ---------------------------------------- 67.8/67.8 kB ? eta 0:00:00\n",
      "Collecting shapely>=1.8.0\n",
      "  Downloading shapely-2.0.1-cp310-cp310-win_amd64.whl (1.4 MB)\n",
      "     ---------------------------------------- 1.4/1.4 MB 9.6 MB/s eta 0:00:00\n",
      "Requirement already satisfied: click in c:\\users\\hp\\anaconda3\\envs\\mini_project\\lib\\site-packages (from sahi>=0.11.10->yolov5) (8.0.4)\n",
      "Collecting pybboxes==0.1.6\n",
      "  Downloading pybboxes-0.1.6-py3-none-any.whl (24 kB)\n",
      "Collecting terminaltables\n",
      "  Downloading terminaltables-3.1.10-py2.py3-none-any.whl (15 kB)\n",
      "Requirement already satisfied: absl-py>=0.4 in c:\\users\\hp\\anaconda3\\envs\\mini_project\\lib\\site-packages (from tensorboard>=2.4.1->yolov5) (1.4.0)\n",
      "Requirement already satisfied: google-auth-oauthlib<0.5,>=0.4.1 in c:\\users\\hp\\anaconda3\\envs\\mini_project\\lib\\site-packages (from tensorboard>=2.4.1->yolov5) (0.4.6)\n",
      "Requirement already satisfied: wheel>=0.26 in c:\\users\\hp\\anaconda3\\envs\\mini_project\\lib\\site-packages (from tensorboard>=2.4.1->yolov5) (0.37.1)\n",
      "Requirement already satisfied: markdown>=2.6.8 in c:\\users\\hp\\anaconda3\\envs\\mini_project\\lib\\site-packages (from tensorboard>=2.4.1->yolov5) (3.4.1)\n",
      "Requirement already satisfied: tensorboard-plugin-wit>=1.6.0 in c:\\users\\hp\\anaconda3\\envs\\mini_project\\lib\\site-packages (from tensorboard>=2.4.1->yolov5) (1.8.1)\n",
      "Requirement already satisfied: tensorboard-data-server<0.7.0,>=0.6.0 in c:\\users\\hp\\anaconda3\\envs\\mini_project\\lib\\site-packages (from tensorboard>=2.4.1->yolov5) (0.6.1)\n",
      "Requirement already satisfied: google-auth<3,>=1.6.3 in c:\\users\\hp\\anaconda3\\envs\\mini_project\\lib\\site-packages (from tensorboard>=2.4.1->yolov5) (2.16.0)\n",
      "Requirement already satisfied: werkzeug>=1.0.1 in c:\\users\\hp\\anaconda3\\envs\\mini_project\\lib\\site-packages (from tensorboard>=2.4.1->yolov5) (2.2.2)\n",
      "Requirement already satisfied: protobuf<4,>=3.9.2 in c:\\users\\hp\\anaconda3\\envs\\mini_project\\lib\\site-packages (from tensorboard>=2.4.1->yolov5) (3.20.3)\n",
      "Requirement already satisfied: grpcio>=1.24.3 in c:\\users\\hp\\anaconda3\\envs\\mini_project\\lib\\site-packages (from tensorboard>=2.4.1->yolov5) (1.51.1)\n",
      "Requirement already satisfied: colorama in c:\\users\\hp\\anaconda3\\envs\\mini_project\\lib\\site-packages (from tqdm>=4.64.0->yolov5) (0.4.6)\n",
      "Requirement already satisfied: termcolor in c:\\users\\hp\\anaconda3\\envs\\mini_project\\lib\\site-packages (from fire->yolov5) (2.2.0)\n",
      "Requirement already satisfied: smmap<6,>=3.0.1 in c:\\users\\hp\\anaconda3\\envs\\mini_project\\lib\\site-packages (from gitdb<5,>=4.0.1->gitpython>=3.1.30->yolov5) (5.0.0)\n",
      "Requirement already satisfied: rsa<5,>=3.1.4 in c:\\users\\hp\\anaconda3\\envs\\mini_project\\lib\\site-packages (from google-auth<3,>=1.6.3->tensorboard>=2.4.1->yolov5) (4.9)\n",
      "Requirement already satisfied: pyasn1-modules>=0.2.1 in c:\\users\\hp\\anaconda3\\envs\\mini_project\\lib\\site-packages (from google-auth<3,>=1.6.3->tensorboard>=2.4.1->yolov5) (0.2.8)\n",
      "Requirement already satisfied: cachetools<6.0,>=2.0.0 in c:\\users\\hp\\anaconda3\\envs\\mini_project\\lib\\site-packages (from google-auth<3,>=1.6.3->tensorboard>=2.4.1->yolov5) (5.3.0)\n",
      "Requirement already satisfied: requests-oauthlib>=0.7.0 in c:\\users\\hp\\anaconda3\\envs\\mini_project\\lib\\site-packages (from google-auth-oauthlib<0.5,>=0.4.1->tensorboard>=2.4.1->yolov5) (1.3.1)\n",
      "Requirement already satisfied: MarkupSafe>=2.1.1 in c:\\users\\hp\\anaconda3\\envs\\mini_project\\lib\\site-packages (from werkzeug>=1.0.1->tensorboard>=2.4.1->yolov5) (2.1.1)\n",
      "Requirement already satisfied: pyasn1<0.5.0,>=0.4.6 in c:\\users\\hp\\anaconda3\\envs\\mini_project\\lib\\site-packages (from pyasn1-modules>=0.2.1->google-auth<3,>=1.6.3->tensorboard>=2.4.1->yolov5) (0.4.8)\n",
      "Requirement already satisfied: oauthlib>=3.0.0 in c:\\users\\hp\\anaconda3\\envs\\mini_project\\lib\\site-packages (from requests-oauthlib>=0.7.0->google-auth-oauthlib<0.5,>=0.4.1->tensorboard>=2.4.1->yolov5) (3.2.2)\n",
      "Building wheels for collected packages: fire, wget\n",
      "  Building wheel for fire (setup.py): started\n",
      "  Building wheel for fire (setup.py): finished with status 'done'\n",
      "  Created wheel for fire: filename=fire-0.5.0-py2.py3-none-any.whl size=116933 sha256=e954c21007268a4a77b041b5dbdef39d81c8c7cfed61e44c7ffd1ab0dea18fb0\n",
      "  Stored in directory: c:\\users\\hp\\appdata\\local\\pip\\cache\\wheels\\c4\\eb\\6a\\1c6d2ad660043768e998bdf9c6a28db2f1b7db3a5825d51e87\n",
      "  Building wheel for wget (setup.py): started\n",
      "  Building wheel for wget (setup.py): finished with status 'done'\n",
      "  Created wheel for wget: filename=wget-3.2-py3-none-any.whl size=9657 sha256=7d1198b59fb0189e1f48b515f2dea5dde7b36e29b15415c5cff1ca61625631f3\n",
      "  Stored in directory: c:\\users\\hp\\appdata\\local\\pip\\cache\\wheels\\46\\78\\0e\\8e5e2b500f83a682c8d7e7ce820638cf99faa894a662f71cf0\n",
      "Successfully built fire wget\n",
      "Installing collected packages: wget, terminaltables, shapely, python-dotenv, pyparsing, pybboxes, jmespath, idna, fsspec, fire, filelock, cycler, botocore, sahi, s3transfer, requests-toolbelt, huggingface-hub, roboflow, boto3, yolov5\n",
      "  Attempting uninstall: pyparsing\n",
      "    Found existing installation: pyparsing 3.0.9\n",
      "    Uninstalling pyparsing-3.0.9:\n",
      "      Successfully uninstalled pyparsing-3.0.9\n",
      "  Attempting uninstall: idna\n",
      "    Found existing installation: idna 3.4\n",
      "    Uninstalling idna-3.4:\n",
      "      Successfully uninstalled idna-3.4\n",
      "  Attempting uninstall: cycler\n",
      "    Found existing installation: cycler 0.11.0\n",
      "    Uninstalling cycler-0.11.0:\n",
      "      Successfully uninstalled cycler-0.11.0\n",
      "Successfully installed boto3-1.26.149 botocore-1.29.149 cycler-0.10.0 filelock-3.12.0 fire-0.5.0 fsspec-2023.5.0 huggingface-hub-0.15.1 idna-2.10 jmespath-1.0.1 pybboxes-0.1.6 pyparsing-2.4.7 python-dotenv-1.0.0 requests-toolbelt-1.0.0 roboflow-1.0.9 s3transfer-0.6.1 sahi-0.11.14 shapely-2.0.1 terminaltables-3.1.10 wget-3.2 yolov5-7.0.12\n"
     ]
    },
    {
     "name": "stderr",
     "output_type": "stream",
     "text": [
      "ERROR: pip's dependency resolver does not currently take into account all the packages that are installed. This behaviour is the source of the following dependency conflicts.\n",
      "aiohttp 3.8.3 requires charset-normalizer<3.0,>=2.0, but you have charset-normalizer 3.0.1 which is incompatible.\n"
     ]
    }
   ],
   "source": [
    "!pip install --upgrade yolov5\n"
   ]
  },
  {
   "cell_type": "code",
   "execution_count": null,
   "id": "f9547176",
   "metadata": {},
   "outputs": [],
   "source": []
  },
  {
   "cell_type": "code",
   "execution_count": null,
   "id": "61447d14",
   "metadata": {},
   "outputs": [],
   "source": []
  }
 ],
 "metadata": {
  "kernelspec": {
   "display_name": "Python 3 (ipykernel)",
   "language": "python",
   "name": "python3"
  },
  "language_info": {
   "codemirror_mode": {
    "name": "ipython",
    "version": 3
   },
   "file_extension": ".py",
   "mimetype": "text/x-python",
   "name": "python",
   "nbconvert_exporter": "python",
   "pygments_lexer": "ipython3",
   "version": "3.10.9"
  }
 },
 "nbformat": 4,
 "nbformat_minor": 5
}
